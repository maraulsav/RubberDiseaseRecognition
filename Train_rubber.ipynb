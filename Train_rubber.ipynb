{
 "cells": [
  {
   "cell_type": "markdown",
   "id": "10c7317d-fcaa-4e2c-908d-134f0e6c0a68",
   "metadata": {},
   "source": [
    "## Import"
   ]
  },
  {
   "cell_type": "code",
   "execution_count": 1,
   "id": "a56d25d5-8ee5-46bc-b3eb-5b4a09b02d89",
   "metadata": {},
   "outputs": [],
   "source": [
    "import os\n",
    "os.environ[\"CUDA_VISIBLE_DEVICES\"] = \"-1\"\n",
    "os.environ[\"TF_XLA_FLAGS\"] = \"--tf_xla_enable_xla_devices=false\"\n",
    "import tensorflow as tf\n",
    "tf.config.set_visible_devices([], 'GPU')\n",
    "import matplotlib.pyplot as plt\n",
    "import pandas as pd\n",
    "import seaborn as sns"
   ]
  },
  {
   "cell_type": "markdown",
   "id": "48c1fb63-6115-436a-80d4-37d2bc8933b0",
   "metadata": {},
   "source": [
    "## Data Processing"
   ]
  },
  {
   "cell_type": "markdown",
   "id": "e460a696-fbb0-48c8-b123-afe92c5ef13f",
   "metadata": {},
   "source": [
    "### Training Image Preprocessing"
   ]
  },
  {
   "cell_type": "code",
   "execution_count": 2,
   "id": "9f1c9813-5450-4052-803e-67e5870f80a8",
   "metadata": {},
   "outputs": [
    {
     "name": "stdout",
     "output_type": "stream",
     "text": [
      "Found 43119 files belonging to 4 classes.\n"
     ]
    }
   ],
   "source": [
    "training_set = tf.keras.utils.image_dataset_from_directory(\n",
    "    'Train',\n",
    "    labels=\"inferred\",\n",
    "    label_mode=\"categorical\",\n",
    "    class_names=None,\n",
    "    color_mode=\"rgb\",\n",
    "    batch_size=32,\n",
    "    image_size=(128, 128),\n",
    "    shuffle=True,\n",
    "    seed=None,\n",
    "    validation_split=None,\n",
    "    subset=None,\n",
    "    interpolation=\"bilinear\",\n",
    "    follow_links=False,\n",
    "    crop_to_aspect_ratio=False,\n",
    "    pad_to_aspect_ratio=False,\n",
    "    verbose=True,\n",
    ")"
   ]
  },
  {
   "cell_type": "markdown",
   "id": "69445cb6-53e4-4480-b58f-e0a73948ed94",
   "metadata": {},
   "source": [
    "### Validation Image Processing"
   ]
  },
  {
   "cell_type": "code",
   "execution_count": 3,
   "id": "7b7faa11-14a2-43e7-bf2c-11a64202b1ed",
   "metadata": {},
   "outputs": [
    {
     "name": "stdout",
     "output_type": "stream",
     "text": [
      "Found 8850 files belonging to 4 classes.\n"
     ]
    }
   ],
   "source": [
    "validation_set = tf.keras.utils.image_dataset_from_directory(\n",
    "    'Valid',\n",
    "    labels=\"inferred\",\n",
    "    label_mode=\"categorical\",\n",
    "    class_names=None,\n",
    "    color_mode=\"rgb\",\n",
    "    batch_size=32,\n",
    "    image_size=(128, 128),\n",
    "    shuffle=True,\n",
    "    seed=None,\n",
    "    validation_split=None,\n",
    "    subset=None,\n",
    "    interpolation=\"bilinear\",\n",
    "    follow_links=False,\n",
    "    crop_to_aspect_ratio=False,\n",
    "    pad_to_aspect_ratio=False,\n",
    "    verbose=True,\n",
    ")"
   ]
  },
  {
   "cell_type": "code",
   "execution_count": 4,
   "id": "6755b32b-f4f3-4dca-9ede-a27c11f67329",
   "metadata": {},
   "outputs": [
    {
     "data": {
      "text/plain": [
       "<_PrefetchDataset element_spec=(TensorSpec(shape=(None, 128, 128, 3), dtype=tf.float32, name=None), TensorSpec(shape=(None, 4), dtype=tf.float32, name=None))>"
      ]
     },
     "execution_count": 4,
     "metadata": {},
     "output_type": "execute_result"
    }
   ],
   "source": [
    "training_set"
   ]
  },
  {
   "cell_type": "code",
   "execution_count": 5,
   "id": "690da175-acfd-4525-9f17-c7fe389180fd",
   "metadata": {},
   "outputs": [
    {
     "name": "stdout",
     "output_type": "stream",
     "text": [
      "tf.Tensor(\n",
      "[[[[  0.          0.          0.       ]\n",
      "   [  0.          0.          0.       ]\n",
      "   [  0.          0.          0.       ]\n",
      "   ...\n",
      "   [  0.          0.          0.       ]\n",
      "   [  0.          0.          0.       ]\n",
      "   [  0.          0.          0.       ]]\n",
      "\n",
      "  [[  0.          0.          0.       ]\n",
      "   [  0.          0.          0.       ]\n",
      "   [  0.          0.          0.       ]\n",
      "   ...\n",
      "   [  0.          0.          0.       ]\n",
      "   [  0.          0.          0.       ]\n",
      "   [  0.          0.          0.       ]]\n",
      "\n",
      "  [[  0.          0.          0.       ]\n",
      "   [  0.          0.          0.       ]\n",
      "   [  0.          0.          0.       ]\n",
      "   ...\n",
      "   [  0.          0.          0.       ]\n",
      "   [  0.          0.          0.       ]\n",
      "   [  0.          0.          0.       ]]\n",
      "\n",
      "  ...\n",
      "\n",
      "  [[  0.          0.          0.       ]\n",
      "   [  0.          0.          0.       ]\n",
      "   [  0.          0.          0.       ]\n",
      "   ...\n",
      "   [  0.          0.          0.       ]\n",
      "   [  0.          0.          0.       ]\n",
      "   [  0.          0.          0.       ]]\n",
      "\n",
      "  [[  0.          0.          0.       ]\n",
      "   [  0.          0.          0.       ]\n",
      "   [  0.          0.          0.       ]\n",
      "   ...\n",
      "   [  0.          0.          0.       ]\n",
      "   [  0.          0.          0.       ]\n",
      "   [  0.          0.          0.       ]]\n",
      "\n",
      "  [[  0.          0.          0.       ]\n",
      "   [  0.          0.          0.       ]\n",
      "   [  0.          0.          0.       ]\n",
      "   ...\n",
      "   [  0.          0.          0.       ]\n",
      "   [  0.          0.          0.       ]\n",
      "   [  0.          0.          0.       ]]]\n",
      "\n",
      "\n",
      " [[[131.        172.         70.       ]\n",
      "   [131.71082   172.71082    70.710815 ]\n",
      "   [130.01562   171.01562    69.015625 ]\n",
      "   ...\n",
      "   [255.        255.        255.       ]\n",
      "   [255.        255.        255.       ]\n",
      "   [255.        255.        255.       ]]\n",
      "\n",
      "  [[132.60156   173.60156    71.60156  ]\n",
      "   [129.        170.         68.       ]\n",
      "   [130.01562   171.01562    69.015625 ]\n",
      "   ...\n",
      "   [255.        255.        255.       ]\n",
      "   [255.        255.        255.       ]\n",
      "   [255.        255.        255.       ]]\n",
      "\n",
      "  [[133.52063   174.52063    72.52063  ]\n",
      "   [129.84436   170.84436    68.84436  ]\n",
      "   [132.        173.         71.       ]\n",
      "   ...\n",
      "   [255.        255.        255.       ]\n",
      "   [255.        255.        255.       ]\n",
      "   [255.        255.        255.       ]]\n",
      "\n",
      "  ...\n",
      "\n",
      "  [[128.52063   157.52063    39.52063  ]\n",
      "   [138.03967   175.03967    44.039673 ]\n",
      "   [144.1875    192.38123    53.77661  ]\n",
      "   ...\n",
      "   [ 52.787476  100.787476   26.787476 ]\n",
      "   [ 39.765015   87.765015   11.765015 ]\n",
      "   [ 45.601562   93.60156    17.601562 ]]\n",
      "\n",
      "  [[138.28113   168.28113    45.54651  ]\n",
      "   [137.27344   175.27344    40.273438 ]\n",
      "   [148.00781   192.99219    50.007812 ]\n",
      "   ...\n",
      "   [ 46.859375   94.859375   20.859375 ]\n",
      "   [ 46.937134   95.93713    14.937134 ]\n",
      "   [ 47.         95.         19.       ]]\n",
      "\n",
      "  [[138.60156   166.60156    43.601562 ]\n",
      "   [141.        170.39062    42.195312 ]\n",
      "   [144.99219   186.97656    49.       ]\n",
      "   ...\n",
      "   [ 48.         96.         20.       ]\n",
      "   [ 40.914062   89.91406     8.9140625]\n",
      "   [ 45.026      94.026      13.026001 ]]]\n",
      "\n",
      "\n",
      " [[[  0.          0.          0.       ]\n",
      "   [  0.          0.          0.       ]\n",
      "   [  0.          0.          0.       ]\n",
      "   ...\n",
      "   [  0.          0.          0.       ]\n",
      "   [  0.          0.          0.       ]\n",
      "   [  0.          0.          0.       ]]\n",
      "\n",
      "  [[  0.          0.          0.       ]\n",
      "   [  0.          0.          0.       ]\n",
      "   [  0.          0.          0.       ]\n",
      "   ...\n",
      "   [  0.          0.          0.       ]\n",
      "   [  0.          0.          0.       ]\n",
      "   [  0.          0.          0.       ]]\n",
      "\n",
      "  [[  0.          0.          0.       ]\n",
      "   [  0.          0.          0.       ]\n",
      "   [  0.          0.          0.       ]\n",
      "   ...\n",
      "   [  0.          0.          0.       ]\n",
      "   [  0.          0.          0.       ]\n",
      "   [  0.          0.          0.       ]]\n",
      "\n",
      "  ...\n",
      "\n",
      "  [[  0.          0.          0.       ]\n",
      "   [  0.          0.          0.       ]\n",
      "   [  0.          0.          0.       ]\n",
      "   ...\n",
      "   [  0.          0.          0.       ]\n",
      "   [  0.          0.          0.       ]\n",
      "   [  0.          0.          0.       ]]\n",
      "\n",
      "  [[  0.          0.          0.       ]\n",
      "   [  0.          0.          0.       ]\n",
      "   [  0.          0.          0.       ]\n",
      "   ...\n",
      "   [  0.          0.          0.       ]\n",
      "   [  0.          0.          0.       ]\n",
      "   [  0.          0.          0.       ]]\n",
      "\n",
      "  [[  0.          0.          0.       ]\n",
      "   [  0.          0.          0.       ]\n",
      "   [  0.          0.          0.       ]\n",
      "   ...\n",
      "   [  0.          0.          0.       ]\n",
      "   [  0.          0.          0.       ]\n",
      "   [  0.          0.          0.       ]]]\n",
      "\n",
      "\n",
      " ...\n",
      "\n",
      "\n",
      " [[[137.        135.        122.       ]\n",
      "   [137.        135.        122.       ]\n",
      "   [137.        135.        122.       ]\n",
      "   ...\n",
      "   [157.        158.        126.       ]\n",
      "   [158.52344   159.52344   127.52344  ]\n",
      "   [160.04688   161.04688   129.04688  ]]\n",
      "\n",
      "  [[137.        135.        122.       ]\n",
      "   [137.        135.        122.       ]\n",
      "   [137.        135.        122.       ]\n",
      "   ...\n",
      "   [168.85938   169.85938   137.85938  ]\n",
      "   [168.05542   169.05542   137.05542  ]\n",
      "   [167.85938   168.85938   136.85938  ]]\n",
      "\n",
      "  [[137.        135.        122.       ]\n",
      "   [137.        135.        122.       ]\n",
      "   [137.        135.        122.       ]\n",
      "   ...\n",
      "   [163.76562   164.76562   132.76562  ]\n",
      "   [162.63403   163.63403   131.63403  ]\n",
      "   [165.        166.        134.       ]]\n",
      "\n",
      "  ...\n",
      "\n",
      "  [[176.78125   197.78125   156.78125  ]\n",
      "   [178.40503   199.40503   158.40503  ]\n",
      "   [173.05786   194.05786   151.05786  ]\n",
      "   ...\n",
      "   [ 69.         80.         50.       ]\n",
      "   [ 69.         80.         50.       ]\n",
      "   [ 68.5625     75.21875    47.4375   ]]\n",
      "\n",
      "  [[176.94556   198.94556   152.94556  ]\n",
      "   [169.80396   191.80396   145.80396  ]\n",
      "   [170.        191.        148.       ]\n",
      "   ...\n",
      "   [ 69.         80.         50.       ]\n",
      "   [ 69.         80.         50.       ]\n",
      "   [ 68.5625     76.         45.       ]]\n",
      "\n",
      "  [[160.44775   181.44775   138.44775  ]\n",
      "   [163.86719   184.86719   141.86719  ]\n",
      "   [166.57031   184.57031   142.57031  ]\n",
      "   ...\n",
      "   [ 69.         80.         48.       ]\n",
      "   [ 69.         80.         48.       ]\n",
      "   [ 68.5625     75.21875    49.       ]]]\n",
      "\n",
      "\n",
      " [[[ 13.         17.         18.       ]\n",
      "   [ 13.         17.         18.       ]\n",
      "   [ 13.         17.         18.       ]\n",
      "   ...\n",
      "   [ 89.01953   103.01953    54.01953  ]\n",
      "   [102.83984   116.83984    67.83984  ]\n",
      "   [120.16016   134.16016    85.16016  ]]\n",
      "\n",
      "  [[ 12.         16.         17.       ]\n",
      "   [ 10.0390625  14.0390625  15.0390625]\n",
      "   [ 10.0390625  14.0390625  15.0390625]\n",
      "   ...\n",
      "   [ 85.46094    99.46094    50.460938 ]\n",
      "   [103.17578   117.17578    68.17578  ]\n",
      "   [ 95.734375  109.734375   60.734375 ]]\n",
      "\n",
      "  [[ 10.203125   14.503906   14.1953125]\n",
      "   [ 12.011719   16.3125     16.003906 ]\n",
      "   [ 11.605469   14.40625    14.597656 ]\n",
      "   ...\n",
      "   [ 97.        110.         64.39844  ]\n",
      "   [107.80469   121.80469    72.203125 ]\n",
      "   [108.89453   122.89453    69.89453  ]]\n",
      "\n",
      "  ...\n",
      "\n",
      "  [[217.        217.        217.       ]\n",
      "   [217.        217.        217.       ]\n",
      "   [217.        217.        217.       ]\n",
      "   ...\n",
      "   [ 79.5        70.         83.5      ]\n",
      "   [ 65.         59.         71.       ]\n",
      "   [ 55.         53.         64.       ]]\n",
      "\n",
      "  [[217.        217.        217.       ]\n",
      "   [217.        217.        217.       ]\n",
      "   [217.        217.        217.       ]\n",
      "   ...\n",
      "   [ 80.5        71.         84.5      ]\n",
      "   [ 66.5        60.5        72.5      ]\n",
      "   [ 58.         56.         67.       ]]\n",
      "\n",
      "  [[217.        217.        217.       ]\n",
      "   [217.        217.        217.       ]\n",
      "   [217.        217.        217.       ]\n",
      "   ...\n",
      "   [ 81.5        72.         85.5      ]\n",
      "   [ 66.         60.         72.       ]\n",
      "   [ 56.5        54.5        65.5      ]]]\n",
      "\n",
      "\n",
      " [[[151.        151.        151.       ]\n",
      "   [153.0675    153.0675    153.0675   ]\n",
      "   [140.97656   139.97656   145.97656  ]\n",
      "   ...\n",
      "   [ 85.07031    83.07031    86.07031  ]\n",
      "   [ 76.86218    74.86218    77.86218  ]\n",
      "   [ 65.94885    64.94885    60.948853 ]]\n",
      "\n",
      "  [[152.53906   152.53906   154.53906  ]\n",
      "   [151.61719   151.61719   153.61719  ]\n",
      "   [146.29065   145.29065   151.29065  ]\n",
      "   ...\n",
      "   [ 56.779663   54.779663   55.779663 ]\n",
      "   [ 56.727173   54.727173   55.727173 ]\n",
      "   [ 59.789062   58.789062   54.789062 ]]\n",
      "\n",
      "  [[164.45312   163.45312   169.45312  ]\n",
      "   [160.79065   159.79065   165.79065  ]\n",
      "   [149.84375   148.84375   154.84375  ]\n",
      "   ...\n",
      "   [ 42.61975    41.61975    38.7135   ]\n",
      "   [ 41.720337   40.720337   37.814087 ]\n",
      "   [ 39.1875     38.1875     34.1875   ]]\n",
      "\n",
      "  ...\n",
      "\n",
      "  [[ 76.        128.        105.46094  ]\n",
      "   [ 86.53125   141.70471   100.756226 ]\n",
      "   [108.23181   163.92712   117.05994  ]\n",
      "   ...\n",
      "   [ 42.927124   58.927124   30.536499 ]\n",
      "   [ 58.1781     81.79529    34.560913 ]\n",
      "   [113.32031   141.32031    80.32031  ]]\n",
      "\n",
      "  [[ 76.        128.53906   104.38281  ]\n",
      "   [ 84.640015  139.02283   103.108765 ]\n",
      "   [120.19531   176.89062   126.128174 ]\n",
      "   ...\n",
      "   [ 42.595337   58.595337   31.900024 ]\n",
      "   [ 54.883423   77.88342    32.649048 ]\n",
      "   [107.984375  135.98438    74.984375 ]]\n",
      "\n",
      "  [[ 76.        128.        105.46094  ]\n",
      "   [ 82.723755  136.72375   104.723755 ]\n",
      "   [131.64844   189.64844   130.95312  ]\n",
      "   ...\n",
      "   [ 42.695312   56.695312   30.695312 ]\n",
      "   [ 55.78125    75.25       36.164062 ]\n",
      "   [103.230835  131.23083    70.230835 ]]]], shape=(32, 128, 128, 3), dtype=float32) (32, 128, 128, 3)\n",
      "tf.Tensor(\n",
      "[[1. 0. 0. 0.]\n",
      " [1. 0. 0. 0.]\n",
      " [0. 1. 0. 0.]\n",
      " [0. 0. 1. 0.]\n",
      " [0. 1. 0. 0.]\n",
      " [0. 0. 1. 0.]\n",
      " [1. 0. 0. 0.]\n",
      " [0. 0. 0. 1.]\n",
      " [0. 0. 1. 0.]\n",
      " [0. 0. 0. 1.]\n",
      " [0. 0. 0. 1.]\n",
      " [0. 1. 0. 0.]\n",
      " [0. 0. 0. 1.]\n",
      " [0. 0. 0. 1.]\n",
      " [1. 0. 0. 0.]\n",
      " [0. 1. 0. 0.]\n",
      " [0. 0. 1. 0.]\n",
      " [0. 1. 0. 0.]\n",
      " [1. 0. 0. 0.]\n",
      " [0. 0. 0. 1.]\n",
      " [0. 0. 1. 0.]\n",
      " [0. 0. 0. 1.]\n",
      " [0. 0. 1. 0.]\n",
      " [1. 0. 0. 0.]\n",
      " [0. 0. 0. 1.]\n",
      " [1. 0. 0. 0.]\n",
      " [0. 0. 1. 0.]\n",
      " [0. 1. 0. 0.]\n",
      " [0. 0. 1. 0.]\n",
      " [0. 0. 1. 0.]\n",
      " [0. 0. 1. 0.]\n",
      " [0. 0. 1. 0.]], shape=(32, 4), dtype=float32) (32, 4)\n"
     ]
    }
   ],
   "source": [
    "for x,y in training_set:\n",
    "    print (x,x.shape)\n",
    "    print (y,y.shape)\n",
    "    break"
   ]
  },
  {
   "cell_type": "markdown",
   "id": "16dc322d-0fd0-4147-86b2-cfb10214e78c",
   "metadata": {},
   "source": [
    "## Building Model"
   ]
  },
  {
   "cell_type": "code",
   "execution_count": 6,
   "id": "436757e4-bde1-4416-b3d7-3a6d7b2673ff",
   "metadata": {},
   "outputs": [],
   "source": [
    "from tensorflow.keras.models import Sequential\n",
    "from tensorflow.keras.layers import Dense, Conv2D, MaxPool2D, Input, Flatten, Dropout"
   ]
  },
  {
   "cell_type": "code",
   "execution_count": 7,
   "id": "cc1f8b60-460a-4320-8d9c-a89d9799d415",
   "metadata": {},
   "outputs": [],
   "source": [
    "model = Sequential()"
   ]
  },
  {
   "cell_type": "code",
   "execution_count": 8,
   "id": "9b526350-a3cc-41b7-8da9-d61a449cd0fc",
   "metadata": {},
   "outputs": [],
   "source": [
    "## Building Convolution Layer"
   ]
  },
  {
   "cell_type": "code",
   "execution_count": 9,
   "id": "6bcb57bc-f8aa-40b9-b37b-af14a9f5c9f1",
   "metadata": {},
   "outputs": [
    {
     "name": "stderr",
     "output_type": "stream",
     "text": [
      "/opt/anaconda3/envs/tf-macos/lib/python3.9/site-packages/keras/src/layers/convolutional/base_conv.py:113: UserWarning: Do not pass an `input_shape`/`input_dim` argument to a layer. When using Sequential models, prefer using an `Input(shape)` object as the first layer in the model instead.\n",
      "  super().__init__(activity_regularizer=activity_regularizer, **kwargs)\n"
     ]
    }
   ],
   "source": [
    "model.add(Conv2D(filters=32,kernel_size=3,padding='same',activation='relu',input_shape=[128,128,3]))\n",
    "model.add(Conv2D(filters=32,kernel_size=3,activation='relu'))\n",
    "model.add(MaxPool2D(pool_size=2, strides=2))"
   ]
  },
  {
   "cell_type": "code",
   "execution_count": 10,
   "id": "c349f136-846f-442e-b172-1fc1106cacad",
   "metadata": {},
   "outputs": [],
   "source": [
    "model.add(Conv2D(filters=64,kernel_size=3,padding='same',activation='relu'))\n",
    "model.add(Conv2D(filters=64,kernel_size=3,activation='relu'))\n",
    "model.add(MaxPool2D(pool_size=2, strides=2))"
   ]
  },
  {
   "cell_type": "code",
   "execution_count": 11,
   "id": "9541b547-6f48-41df-8e13-ccf6d820fc5a",
   "metadata": {},
   "outputs": [],
   "source": [
    "model.add(Conv2D(filters=128,kernel_size=3,padding='same',activation='relu'))\n",
    "model.add(Conv2D(filters=128,kernel_size=3,activation='relu'))\n",
    "model.add(MaxPool2D(pool_size=2, strides=2))"
   ]
  },
  {
   "cell_type": "code",
   "execution_count": 12,
   "id": "780242ed-6b86-4716-bc01-099b966978f6",
   "metadata": {},
   "outputs": [],
   "source": [
    "model.add(Conv2D(filters=256,kernel_size=3,padding='same',activation='relu'))\n",
    "model.add(Conv2D(filters=256,kernel_size=3,activation='relu'))\n",
    "model.add(MaxPool2D(pool_size=2, strides=2))"
   ]
  },
  {
   "cell_type": "code",
   "execution_count": 13,
   "id": "c5d3f47d-4f67-4760-bae7-e055216724f1",
   "metadata": {},
   "outputs": [],
   "source": [
    "model.add(Dropout(0.25))"
   ]
  },
  {
   "cell_type": "code",
   "execution_count": 14,
   "id": "ed895bf9-b0d8-43ff-a8d3-38265fb7ed0a",
   "metadata": {},
   "outputs": [],
   "source": [
    "model.add(Flatten())"
   ]
  },
  {
   "cell_type": "code",
   "execution_count": 15,
   "id": "142d48aa-b936-41fa-a868-e19fce7b1d3f",
   "metadata": {},
   "outputs": [],
   "source": [
    "model.add(Dense(units=256,activation='relu'))"
   ]
  },
  {
   "cell_type": "code",
   "execution_count": 16,
   "id": "fb67741a-9dc4-44c5-8e99-75bce52bc582",
   "metadata": {},
   "outputs": [],
   "source": [
    "model.add(Dropout(0.5))"
   ]
  },
  {
   "cell_type": "code",
   "execution_count": 17,
   "id": "a5bebefc-6c0a-4fc2-a006-0267cf0f98a6",
   "metadata": {},
   "outputs": [],
   "source": [
    "#Output Layer\n",
    "model.add(Dense(units=4,activation='softmax'))"
   ]
  },
  {
   "cell_type": "markdown",
   "id": "c3779caf-dacb-4076-bdd5-e17f11706a7e",
   "metadata": {},
   "source": [
    "## Compilling Model"
   ]
  },
  {
   "cell_type": "code",
   "execution_count": 18,
   "id": "0ac81d41-f47f-4b4f-a623-bb333227cb88",
   "metadata": {},
   "outputs": [],
   "source": [
    "model.compile(optimizer=tf.keras.optimizers.Adam(\n",
    "    learning_rate=0.0001),loss='categorical_crossentropy',metrics=['accuracy'])"
   ]
  },
  {
   "cell_type": "code",
   "execution_count": 22,
   "id": "b695acab-8f52-4d18-b77b-fcd4937cdca8",
   "metadata": {},
   "outputs": [
    {
     "data": {
      "text/html": [
       "<pre style=\"white-space:pre;overflow-x:auto;line-height:normal;font-family:Menlo,'DejaVu Sans Mono',consolas,'Courier New',monospace\"><span style=\"font-weight: bold\">Model: \"sequential\"</span>\n",
       "</pre>\n"
      ],
      "text/plain": [
       "\u001b[1mModel: \"sequential\"\u001b[0m\n"
      ]
     },
     "metadata": {},
     "output_type": "display_data"
    },
    {
     "data": {
      "text/html": [
       "<pre style=\"white-space:pre;overflow-x:auto;line-height:normal;font-family:Menlo,'DejaVu Sans Mono',consolas,'Courier New',monospace\">┏━━━━━━━━━━━━━━━━━━━━━━━━━━━━━━━━━┳━━━━━━━━━━━━━━━━━━━━━━━━┳━━━━━━━━━━━━━━━┓\n",
       "┃<span style=\"font-weight: bold\"> Layer (type)                    </span>┃<span style=\"font-weight: bold\"> Output Shape           </span>┃<span style=\"font-weight: bold\">       Param # </span>┃\n",
       "┡━━━━━━━━━━━━━━━━━━━━━━━━━━━━━━━━━╇━━━━━━━━━━━━━━━━━━━━━━━━╇━━━━━━━━━━━━━━━┩\n",
       "│ conv2d (<span style=\"color: #0087ff; text-decoration-color: #0087ff\">Conv2D</span>)                 │ (<span style=\"color: #00d7ff; text-decoration-color: #00d7ff\">None</span>, <span style=\"color: #00af00; text-decoration-color: #00af00\">128</span>, <span style=\"color: #00af00; text-decoration-color: #00af00\">128</span>, <span style=\"color: #00af00; text-decoration-color: #00af00\">32</span>)   │           <span style=\"color: #00af00; text-decoration-color: #00af00\">896</span> │\n",
       "├─────────────────────────────────┼────────────────────────┼───────────────┤\n",
       "│ conv2d_1 (<span style=\"color: #0087ff; text-decoration-color: #0087ff\">Conv2D</span>)               │ (<span style=\"color: #00d7ff; text-decoration-color: #00d7ff\">None</span>, <span style=\"color: #00af00; text-decoration-color: #00af00\">126</span>, <span style=\"color: #00af00; text-decoration-color: #00af00\">126</span>, <span style=\"color: #00af00; text-decoration-color: #00af00\">32</span>)   │         <span style=\"color: #00af00; text-decoration-color: #00af00\">9,248</span> │\n",
       "├─────────────────────────────────┼────────────────────────┼───────────────┤\n",
       "│ max_pooling2d (<span style=\"color: #0087ff; text-decoration-color: #0087ff\">MaxPooling2D</span>)    │ (<span style=\"color: #00d7ff; text-decoration-color: #00d7ff\">None</span>, <span style=\"color: #00af00; text-decoration-color: #00af00\">63</span>, <span style=\"color: #00af00; text-decoration-color: #00af00\">63</span>, <span style=\"color: #00af00; text-decoration-color: #00af00\">32</span>)     │             <span style=\"color: #00af00; text-decoration-color: #00af00\">0</span> │\n",
       "├─────────────────────────────────┼────────────────────────┼───────────────┤\n",
       "│ conv2d_2 (<span style=\"color: #0087ff; text-decoration-color: #0087ff\">Conv2D</span>)               │ (<span style=\"color: #00d7ff; text-decoration-color: #00d7ff\">None</span>, <span style=\"color: #00af00; text-decoration-color: #00af00\">63</span>, <span style=\"color: #00af00; text-decoration-color: #00af00\">63</span>, <span style=\"color: #00af00; text-decoration-color: #00af00\">64</span>)     │        <span style=\"color: #00af00; text-decoration-color: #00af00\">18,496</span> │\n",
       "├─────────────────────────────────┼────────────────────────┼───────────────┤\n",
       "│ conv2d_3 (<span style=\"color: #0087ff; text-decoration-color: #0087ff\">Conv2D</span>)               │ (<span style=\"color: #00d7ff; text-decoration-color: #00d7ff\">None</span>, <span style=\"color: #00af00; text-decoration-color: #00af00\">61</span>, <span style=\"color: #00af00; text-decoration-color: #00af00\">61</span>, <span style=\"color: #00af00; text-decoration-color: #00af00\">64</span>)     │        <span style=\"color: #00af00; text-decoration-color: #00af00\">36,928</span> │\n",
       "├─────────────────────────────────┼────────────────────────┼───────────────┤\n",
       "│ max_pooling2d_1 (<span style=\"color: #0087ff; text-decoration-color: #0087ff\">MaxPooling2D</span>)  │ (<span style=\"color: #00d7ff; text-decoration-color: #00d7ff\">None</span>, <span style=\"color: #00af00; text-decoration-color: #00af00\">30</span>, <span style=\"color: #00af00; text-decoration-color: #00af00\">30</span>, <span style=\"color: #00af00; text-decoration-color: #00af00\">64</span>)     │             <span style=\"color: #00af00; text-decoration-color: #00af00\">0</span> │\n",
       "├─────────────────────────────────┼────────────────────────┼───────────────┤\n",
       "│ conv2d_4 (<span style=\"color: #0087ff; text-decoration-color: #0087ff\">Conv2D</span>)               │ (<span style=\"color: #00d7ff; text-decoration-color: #00d7ff\">None</span>, <span style=\"color: #00af00; text-decoration-color: #00af00\">30</span>, <span style=\"color: #00af00; text-decoration-color: #00af00\">30</span>, <span style=\"color: #00af00; text-decoration-color: #00af00\">128</span>)    │        <span style=\"color: #00af00; text-decoration-color: #00af00\">73,856</span> │\n",
       "├─────────────────────────────────┼────────────────────────┼───────────────┤\n",
       "│ conv2d_5 (<span style=\"color: #0087ff; text-decoration-color: #0087ff\">Conv2D</span>)               │ (<span style=\"color: #00d7ff; text-decoration-color: #00d7ff\">None</span>, <span style=\"color: #00af00; text-decoration-color: #00af00\">28</span>, <span style=\"color: #00af00; text-decoration-color: #00af00\">28</span>, <span style=\"color: #00af00; text-decoration-color: #00af00\">128</span>)    │       <span style=\"color: #00af00; text-decoration-color: #00af00\">147,584</span> │\n",
       "├─────────────────────────────────┼────────────────────────┼───────────────┤\n",
       "│ max_pooling2d_2 (<span style=\"color: #0087ff; text-decoration-color: #0087ff\">MaxPooling2D</span>)  │ (<span style=\"color: #00d7ff; text-decoration-color: #00d7ff\">None</span>, <span style=\"color: #00af00; text-decoration-color: #00af00\">14</span>, <span style=\"color: #00af00; text-decoration-color: #00af00\">14</span>, <span style=\"color: #00af00; text-decoration-color: #00af00\">128</span>)    │             <span style=\"color: #00af00; text-decoration-color: #00af00\">0</span> │\n",
       "├─────────────────────────────────┼────────────────────────┼───────────────┤\n",
       "│ conv2d_6 (<span style=\"color: #0087ff; text-decoration-color: #0087ff\">Conv2D</span>)               │ (<span style=\"color: #00d7ff; text-decoration-color: #00d7ff\">None</span>, <span style=\"color: #00af00; text-decoration-color: #00af00\">14</span>, <span style=\"color: #00af00; text-decoration-color: #00af00\">14</span>, <span style=\"color: #00af00; text-decoration-color: #00af00\">256</span>)    │       <span style=\"color: #00af00; text-decoration-color: #00af00\">295,168</span> │\n",
       "├─────────────────────────────────┼────────────────────────┼───────────────┤\n",
       "│ conv2d_7 (<span style=\"color: #0087ff; text-decoration-color: #0087ff\">Conv2D</span>)               │ (<span style=\"color: #00d7ff; text-decoration-color: #00d7ff\">None</span>, <span style=\"color: #00af00; text-decoration-color: #00af00\">12</span>, <span style=\"color: #00af00; text-decoration-color: #00af00\">12</span>, <span style=\"color: #00af00; text-decoration-color: #00af00\">256</span>)    │       <span style=\"color: #00af00; text-decoration-color: #00af00\">590,080</span> │\n",
       "├─────────────────────────────────┼────────────────────────┼───────────────┤\n",
       "│ max_pooling2d_3 (<span style=\"color: #0087ff; text-decoration-color: #0087ff\">MaxPooling2D</span>)  │ (<span style=\"color: #00d7ff; text-decoration-color: #00d7ff\">None</span>, <span style=\"color: #00af00; text-decoration-color: #00af00\">6</span>, <span style=\"color: #00af00; text-decoration-color: #00af00\">6</span>, <span style=\"color: #00af00; text-decoration-color: #00af00\">256</span>)      │             <span style=\"color: #00af00; text-decoration-color: #00af00\">0</span> │\n",
       "├─────────────────────────────────┼────────────────────────┼───────────────┤\n",
       "│ dropout (<span style=\"color: #0087ff; text-decoration-color: #0087ff\">Dropout</span>)               │ (<span style=\"color: #00d7ff; text-decoration-color: #00d7ff\">None</span>, <span style=\"color: #00af00; text-decoration-color: #00af00\">6</span>, <span style=\"color: #00af00; text-decoration-color: #00af00\">6</span>, <span style=\"color: #00af00; text-decoration-color: #00af00\">256</span>)      │             <span style=\"color: #00af00; text-decoration-color: #00af00\">0</span> │\n",
       "├─────────────────────────────────┼────────────────────────┼───────────────┤\n",
       "│ flatten (<span style=\"color: #0087ff; text-decoration-color: #0087ff\">Flatten</span>)               │ (<span style=\"color: #00d7ff; text-decoration-color: #00d7ff\">None</span>, <span style=\"color: #00af00; text-decoration-color: #00af00\">9216</span>)           │             <span style=\"color: #00af00; text-decoration-color: #00af00\">0</span> │\n",
       "├─────────────────────────────────┼────────────────────────┼───────────────┤\n",
       "│ dense (<span style=\"color: #0087ff; text-decoration-color: #0087ff\">Dense</span>)                   │ (<span style=\"color: #00d7ff; text-decoration-color: #00d7ff\">None</span>, <span style=\"color: #00af00; text-decoration-color: #00af00\">256</span>)            │     <span style=\"color: #00af00; text-decoration-color: #00af00\">2,359,552</span> │\n",
       "├─────────────────────────────────┼────────────────────────┼───────────────┤\n",
       "│ dropout_1 (<span style=\"color: #0087ff; text-decoration-color: #0087ff\">Dropout</span>)             │ (<span style=\"color: #00d7ff; text-decoration-color: #00d7ff\">None</span>, <span style=\"color: #00af00; text-decoration-color: #00af00\">256</span>)            │             <span style=\"color: #00af00; text-decoration-color: #00af00\">0</span> │\n",
       "├─────────────────────────────────┼────────────────────────┼───────────────┤\n",
       "│ dense_1 (<span style=\"color: #0087ff; text-decoration-color: #0087ff\">Dense</span>)                 │ (<span style=\"color: #00d7ff; text-decoration-color: #00d7ff\">None</span>, <span style=\"color: #00af00; text-decoration-color: #00af00\">4</span>)              │         <span style=\"color: #00af00; text-decoration-color: #00af00\">1,028</span> │\n",
       "└─────────────────────────────────┴────────────────────────┴───────────────┘\n",
       "</pre>\n"
      ],
      "text/plain": [
       "┏━━━━━━━━━━━━━━━━━━━━━━━━━━━━━━━━━┳━━━━━━━━━━━━━━━━━━━━━━━━┳━━━━━━━━━━━━━━━┓\n",
       "┃\u001b[1m \u001b[0m\u001b[1mLayer (type)                   \u001b[0m\u001b[1m \u001b[0m┃\u001b[1m \u001b[0m\u001b[1mOutput Shape          \u001b[0m\u001b[1m \u001b[0m┃\u001b[1m \u001b[0m\u001b[1m      Param #\u001b[0m\u001b[1m \u001b[0m┃\n",
       "┡━━━━━━━━━━━━━━━━━━━━━━━━━━━━━━━━━╇━━━━━━━━━━━━━━━━━━━━━━━━╇━━━━━━━━━━━━━━━┩\n",
       "│ conv2d (\u001b[38;5;33mConv2D\u001b[0m)                 │ (\u001b[38;5;45mNone\u001b[0m, \u001b[38;5;34m128\u001b[0m, \u001b[38;5;34m128\u001b[0m, \u001b[38;5;34m32\u001b[0m)   │           \u001b[38;5;34m896\u001b[0m │\n",
       "├─────────────────────────────────┼────────────────────────┼───────────────┤\n",
       "│ conv2d_1 (\u001b[38;5;33mConv2D\u001b[0m)               │ (\u001b[38;5;45mNone\u001b[0m, \u001b[38;5;34m126\u001b[0m, \u001b[38;5;34m126\u001b[0m, \u001b[38;5;34m32\u001b[0m)   │         \u001b[38;5;34m9,248\u001b[0m │\n",
       "├─────────────────────────────────┼────────────────────────┼───────────────┤\n",
       "│ max_pooling2d (\u001b[38;5;33mMaxPooling2D\u001b[0m)    │ (\u001b[38;5;45mNone\u001b[0m, \u001b[38;5;34m63\u001b[0m, \u001b[38;5;34m63\u001b[0m, \u001b[38;5;34m32\u001b[0m)     │             \u001b[38;5;34m0\u001b[0m │\n",
       "├─────────────────────────────────┼────────────────────────┼───────────────┤\n",
       "│ conv2d_2 (\u001b[38;5;33mConv2D\u001b[0m)               │ (\u001b[38;5;45mNone\u001b[0m, \u001b[38;5;34m63\u001b[0m, \u001b[38;5;34m63\u001b[0m, \u001b[38;5;34m64\u001b[0m)     │        \u001b[38;5;34m18,496\u001b[0m │\n",
       "├─────────────────────────────────┼────────────────────────┼───────────────┤\n",
       "│ conv2d_3 (\u001b[38;5;33mConv2D\u001b[0m)               │ (\u001b[38;5;45mNone\u001b[0m, \u001b[38;5;34m61\u001b[0m, \u001b[38;5;34m61\u001b[0m, \u001b[38;5;34m64\u001b[0m)     │        \u001b[38;5;34m36,928\u001b[0m │\n",
       "├─────────────────────────────────┼────────────────────────┼───────────────┤\n",
       "│ max_pooling2d_1 (\u001b[38;5;33mMaxPooling2D\u001b[0m)  │ (\u001b[38;5;45mNone\u001b[0m, \u001b[38;5;34m30\u001b[0m, \u001b[38;5;34m30\u001b[0m, \u001b[38;5;34m64\u001b[0m)     │             \u001b[38;5;34m0\u001b[0m │\n",
       "├─────────────────────────────────┼────────────────────────┼───────────────┤\n",
       "│ conv2d_4 (\u001b[38;5;33mConv2D\u001b[0m)               │ (\u001b[38;5;45mNone\u001b[0m, \u001b[38;5;34m30\u001b[0m, \u001b[38;5;34m30\u001b[0m, \u001b[38;5;34m128\u001b[0m)    │        \u001b[38;5;34m73,856\u001b[0m │\n",
       "├─────────────────────────────────┼────────────────────────┼───────────────┤\n",
       "│ conv2d_5 (\u001b[38;5;33mConv2D\u001b[0m)               │ (\u001b[38;5;45mNone\u001b[0m, \u001b[38;5;34m28\u001b[0m, \u001b[38;5;34m28\u001b[0m, \u001b[38;5;34m128\u001b[0m)    │       \u001b[38;5;34m147,584\u001b[0m │\n",
       "├─────────────────────────────────┼────────────────────────┼───────────────┤\n",
       "│ max_pooling2d_2 (\u001b[38;5;33mMaxPooling2D\u001b[0m)  │ (\u001b[38;5;45mNone\u001b[0m, \u001b[38;5;34m14\u001b[0m, \u001b[38;5;34m14\u001b[0m, \u001b[38;5;34m128\u001b[0m)    │             \u001b[38;5;34m0\u001b[0m │\n",
       "├─────────────────────────────────┼────────────────────────┼───────────────┤\n",
       "│ conv2d_6 (\u001b[38;5;33mConv2D\u001b[0m)               │ (\u001b[38;5;45mNone\u001b[0m, \u001b[38;5;34m14\u001b[0m, \u001b[38;5;34m14\u001b[0m, \u001b[38;5;34m256\u001b[0m)    │       \u001b[38;5;34m295,168\u001b[0m │\n",
       "├─────────────────────────────────┼────────────────────────┼───────────────┤\n",
       "│ conv2d_7 (\u001b[38;5;33mConv2D\u001b[0m)               │ (\u001b[38;5;45mNone\u001b[0m, \u001b[38;5;34m12\u001b[0m, \u001b[38;5;34m12\u001b[0m, \u001b[38;5;34m256\u001b[0m)    │       \u001b[38;5;34m590,080\u001b[0m │\n",
       "├─────────────────────────────────┼────────────────────────┼───────────────┤\n",
       "│ max_pooling2d_3 (\u001b[38;5;33mMaxPooling2D\u001b[0m)  │ (\u001b[38;5;45mNone\u001b[0m, \u001b[38;5;34m6\u001b[0m, \u001b[38;5;34m6\u001b[0m, \u001b[38;5;34m256\u001b[0m)      │             \u001b[38;5;34m0\u001b[0m │\n",
       "├─────────────────────────────────┼────────────────────────┼───────────────┤\n",
       "│ dropout (\u001b[38;5;33mDropout\u001b[0m)               │ (\u001b[38;5;45mNone\u001b[0m, \u001b[38;5;34m6\u001b[0m, \u001b[38;5;34m6\u001b[0m, \u001b[38;5;34m256\u001b[0m)      │             \u001b[38;5;34m0\u001b[0m │\n",
       "├─────────────────────────────────┼────────────────────────┼───────────────┤\n",
       "│ flatten (\u001b[38;5;33mFlatten\u001b[0m)               │ (\u001b[38;5;45mNone\u001b[0m, \u001b[38;5;34m9216\u001b[0m)           │             \u001b[38;5;34m0\u001b[0m │\n",
       "├─────────────────────────────────┼────────────────────────┼───────────────┤\n",
       "│ dense (\u001b[38;5;33mDense\u001b[0m)                   │ (\u001b[38;5;45mNone\u001b[0m, \u001b[38;5;34m256\u001b[0m)            │     \u001b[38;5;34m2,359,552\u001b[0m │\n",
       "├─────────────────────────────────┼────────────────────────┼───────────────┤\n",
       "│ dropout_1 (\u001b[38;5;33mDropout\u001b[0m)             │ (\u001b[38;5;45mNone\u001b[0m, \u001b[38;5;34m256\u001b[0m)            │             \u001b[38;5;34m0\u001b[0m │\n",
       "├─────────────────────────────────┼────────────────────────┼───────────────┤\n",
       "│ dense_1 (\u001b[38;5;33mDense\u001b[0m)                 │ (\u001b[38;5;45mNone\u001b[0m, \u001b[38;5;34m4\u001b[0m)              │         \u001b[38;5;34m1,028\u001b[0m │\n",
       "└─────────────────────────────────┴────────────────────────┴───────────────┘\n"
      ]
     },
     "metadata": {},
     "output_type": "display_data"
    },
    {
     "data": {
      "text/html": [
       "<pre style=\"white-space:pre;overflow-x:auto;line-height:normal;font-family:Menlo,'DejaVu Sans Mono',consolas,'Courier New',monospace\"><span style=\"font-weight: bold\"> Total params: </span><span style=\"color: #00af00; text-decoration-color: #00af00\">10,598,510</span> (40.43 MB)\n",
       "</pre>\n"
      ],
      "text/plain": [
       "\u001b[1m Total params: \u001b[0m\u001b[38;5;34m10,598,510\u001b[0m (40.43 MB)\n"
      ]
     },
     "metadata": {},
     "output_type": "display_data"
    },
    {
     "data": {
      "text/html": [
       "<pre style=\"white-space:pre;overflow-x:auto;line-height:normal;font-family:Menlo,'DejaVu Sans Mono',consolas,'Courier New',monospace\"><span style=\"font-weight: bold\"> Trainable params: </span><span style=\"color: #00af00; text-decoration-color: #00af00\">3,532,836</span> (13.48 MB)\n",
       "</pre>\n"
      ],
      "text/plain": [
       "\u001b[1m Trainable params: \u001b[0m\u001b[38;5;34m3,532,836\u001b[0m (13.48 MB)\n"
      ]
     },
     "metadata": {},
     "output_type": "display_data"
    },
    {
     "data": {
      "text/html": [
       "<pre style=\"white-space:pre;overflow-x:auto;line-height:normal;font-family:Menlo,'DejaVu Sans Mono',consolas,'Courier New',monospace\"><span style=\"font-weight: bold\"> Non-trainable params: </span><span style=\"color: #00af00; text-decoration-color: #00af00\">0</span> (0.00 B)\n",
       "</pre>\n"
      ],
      "text/plain": [
       "\u001b[1m Non-trainable params: \u001b[0m\u001b[38;5;34m0\u001b[0m (0.00 B)\n"
      ]
     },
     "metadata": {},
     "output_type": "display_data"
    },
    {
     "data": {
      "text/html": [
       "<pre style=\"white-space:pre;overflow-x:auto;line-height:normal;font-family:Menlo,'DejaVu Sans Mono',consolas,'Courier New',monospace\"><span style=\"font-weight: bold\"> Optimizer params: </span><span style=\"color: #00af00; text-decoration-color: #00af00\">7,065,674</span> (26.95 MB)\n",
       "</pre>\n"
      ],
      "text/plain": [
       "\u001b[1m Optimizer params: \u001b[0m\u001b[38;5;34m7,065,674\u001b[0m (26.95 MB)\n"
      ]
     },
     "metadata": {},
     "output_type": "display_data"
    }
   ],
   "source": [
    "model.summary()"
   ]
  },
  {
   "cell_type": "code",
   "execution_count": null,
   "id": "47dcdb6d-1350-4fec-b861-0eceb931fc43",
   "metadata": {},
   "outputs": [],
   "source": []
  },
  {
   "cell_type": "markdown",
   "id": "3cabab32-11bb-42b6-95a5-40901d85222c",
   "metadata": {},
   "source": [
    "## Model Training"
   ]
  },
  {
   "cell_type": "code",
   "execution_count": 20,
   "id": "79f5b1ac-685c-4c9c-97f3-e8519df7623d",
   "metadata": {},
   "outputs": [
    {
     "name": "stdout",
     "output_type": "stream",
     "text": [
      "Epoch 1/10\n"
     ]
    },
    {
     "name": "stderr",
     "output_type": "stream",
     "text": [
      "WARNING: All log messages before absl::InitializeLog() is called are written to STDERR\n",
      "I0000 00:00:1758601958.718406 4695208 service.cc:145] XLA service 0x600002264300 initialized for platform Host (this does not guarantee that XLA will be used). Devices:\n",
      "I0000 00:00:1758601958.719068 4695208 service.cc:153]   StreamExecutor device (0): Host, Default Version\n",
      "2025-09-23 11:32:38.791859: I tensorflow/compiler/mlir/tensorflow/utils/dump_mlir_util.cc:268] disabling MLIR crash reproducer, set env var `MLIR_CRASH_REPRODUCER_DIRECTORY` to enable.\n",
      "I0000 00:00:1758601959.846237 4695208 device_compiler.h:188] Compiled cluster using XLA!  This line is logged at most once for the lifetime of the process.\n"
     ]
    },
    {
     "name": "stdout",
     "output_type": "stream",
     "text": [
      "\u001b[1m1348/1348\u001b[0m \u001b[32m━━━━━━━━━━━━━━━━━━━━\u001b[0m\u001b[37m\u001b[0m \u001b[1m1946s\u001b[0m 1s/step - accuracy: 0.4950 - loss: 1.1986 - val_accuracy: 0.6713 - val_loss: 0.8346\n",
      "Epoch 2/10\n",
      "\u001b[1m1348/1348\u001b[0m \u001b[32m━━━━━━━━━━━━━━━━━━━━\u001b[0m\u001b[37m\u001b[0m \u001b[1m4218s\u001b[0m 3s/step - accuracy: 0.7243 - loss: 0.6879 - val_accuracy: 0.7877 - val_loss: 0.5695\n",
      "Epoch 3/10\n",
      "\u001b[1m1348/1348\u001b[0m \u001b[32m━━━━━━━━━━━━━━━━━━━━\u001b[0m\u001b[37m\u001b[0m \u001b[1m2841s\u001b[0m 2s/step - accuracy: 0.8233 - loss: 0.4671 - val_accuracy: 0.8532 - val_loss: 0.3893\n",
      "Epoch 4/10\n",
      "\u001b[1m1348/1348\u001b[0m \u001b[32m━━━━━━━━━━━━━━━━━━━━\u001b[0m\u001b[37m\u001b[0m \u001b[1m1951s\u001b[0m 1s/step - accuracy: 0.8794 - loss: 0.3235 - val_accuracy: 0.8934 - val_loss: 0.3063\n",
      "Epoch 5/10\n",
      "\u001b[1m1348/1348\u001b[0m \u001b[32m━━━━━━━━━━━━━━━━━━━━\u001b[0m\u001b[37m\u001b[0m \u001b[1m1904s\u001b[0m 1s/step - accuracy: 0.9201 - loss: 0.2266 - val_accuracy: 0.9050 - val_loss: 0.2730\n",
      "Epoch 6/10\n",
      "\u001b[1m1348/1348\u001b[0m \u001b[32m━━━━━━━━━━━━━━━━━━━━\u001b[0m\u001b[37m\u001b[0m \u001b[1m2494s\u001b[0m 2s/step - accuracy: 0.9413 - loss: 0.1641 - val_accuracy: 0.8976 - val_loss: 0.3247\n",
      "Epoch 7/10\n",
      "\u001b[1m1348/1348\u001b[0m \u001b[32m━━━━━━━━━━━━━━━━━━━━\u001b[0m\u001b[37m\u001b[0m \u001b[1m1917s\u001b[0m 1s/step - accuracy: 0.9571 - loss: 0.1181 - val_accuracy: 0.8711 - val_loss: 0.3716\n",
      "Epoch 8/10\n",
      "\u001b[1m1348/1348\u001b[0m \u001b[32m━━━━━━━━━━━━━━━━━━━━\u001b[0m\u001b[37m\u001b[0m \u001b[1m3640s\u001b[0m 3s/step - accuracy: 0.9626 - loss: 0.1061 - val_accuracy: 0.9208 - val_loss: 0.2581\n",
      "Epoch 9/10\n",
      "\u001b[1m1348/1348\u001b[0m \u001b[32m━━━━━━━━━━━━━━━━━━━━\u001b[0m\u001b[37m\u001b[0m \u001b[1m8280s\u001b[0m 6s/step - accuracy: 0.9683 - loss: 0.0917 - val_accuracy: 0.9398 - val_loss: 0.2121\n",
      "Epoch 10/10\n",
      "\u001b[1m1348/1348\u001b[0m \u001b[32m━━━━━━━━━━━━━━━━━━━━\u001b[0m\u001b[37m\u001b[0m \u001b[1m1847s\u001b[0m 1s/step - accuracy: 0.9760 - loss: 0.0713 - val_accuracy: 0.9290 - val_loss: 0.2449\n"
     ]
    }
   ],
   "source": [
    "training_history = model.fit(x=training_set,validation_data=validation_set,epochs=10)"
   ]
  },
  {
   "cell_type": "code",
   "execution_count": null,
   "id": "755655ad-3eac-4373-aa85-88472c5eb9fd",
   "metadata": {},
   "outputs": [],
   "source": []
  },
  {
   "cell_type": "markdown",
   "id": "1ed69ef6-9a99-4083-968d-241f1947f271",
   "metadata": {},
   "source": [
    "## Model Evaluation"
   ]
  },
  {
   "cell_type": "code",
   "execution_count": 23,
   "id": "b5e0437a-f119-4e58-a8c9-98aa70102232",
   "metadata": {},
   "outputs": [
    {
     "name": "stdout",
     "output_type": "stream",
     "text": [
      "\u001b[1m1348/1348\u001b[0m \u001b[32m━━━━━━━━━━━━━━━━━━━━\u001b[0m\u001b[37m\u001b[0m \u001b[1m450s\u001b[0m 334ms/step - accuracy: 0.9846 - loss: 0.0431\n"
     ]
    }
   ],
   "source": [
    "#Model Evaluation on Training Set\n",
    "train_loss,train_acc = model.evaluate(training_set)"
   ]
  },
  {
   "cell_type": "code",
   "execution_count": 24,
   "id": "ebf4cf1d-cd57-40a3-bb45-b271c510a668",
   "metadata": {},
   "outputs": [
    {
     "name": "stdout",
     "output_type": "stream",
     "text": [
      "0.038851164281368256 0.9865952134132385\n"
     ]
    }
   ],
   "source": [
    "print(train_loss,train_acc)"
   ]
  },
  {
   "cell_type": "code",
   "execution_count": 25,
   "id": "850a016b-55e8-4e4d-8ef8-b6df29864a72",
   "metadata": {},
   "outputs": [
    {
     "name": "stdout",
     "output_type": "stream",
     "text": [
      "\u001b[1m277/277\u001b[0m \u001b[32m━━━━━━━━━━━━━━━━━━━━\u001b[0m\u001b[37m\u001b[0m \u001b[1m77s\u001b[0m 278ms/step - accuracy: 0.9251 - loss: 0.2633\n"
     ]
    }
   ],
   "source": [
    "#Model Evaluation on Validation Set\n",
    "val_loss,val_acc = model.evaluate(validation_set)"
   ]
  },
  {
   "cell_type": "code",
   "execution_count": 26,
   "id": "14de78b2-1761-42b2-ac71-12f7c98d6815",
   "metadata": {},
   "outputs": [
    {
     "name": "stdout",
     "output_type": "stream",
     "text": [
      "0.2448716163635254 0.9290395379066467\n"
     ]
    }
   ],
   "source": [
    "print(val_loss,val_acc)"
   ]
  },
  {
   "cell_type": "markdown",
   "id": "c0ae6247-2ba6-4edd-8f2d-a90749fa3a1c",
   "metadata": {},
   "source": [
    "### Saving Model"
   ]
  },
  {
   "cell_type": "code",
   "execution_count": 28,
   "id": "37d5da1d-0bc2-40d5-9987-aae4d17d3c73",
   "metadata": {},
   "outputs": [],
   "source": [
    "model.save(\"trained_model.keras\")"
   ]
  },
  {
   "cell_type": "code",
   "execution_count": 4,
   "id": "65997365-24a3-4088-b5bf-84de41353888",
   "metadata": {},
   "outputs": [
    {
     "ename": "NameError",
     "evalue": "name 'training_history' is not defined",
     "output_type": "error",
     "traceback": [
      "\u001b[0;31m---------------------------------------------------------------------------\u001b[0m",
      "\u001b[0;31mNameError\u001b[0m                                 Traceback (most recent call last)",
      "Cell \u001b[0;32mIn[4], line 1\u001b[0m\n\u001b[0;32m----> 1\u001b[0m \u001b[43mtraining_history\u001b[49m\u001b[38;5;241m.\u001b[39mhistory\n",
      "\u001b[0;31mNameError\u001b[0m: name 'training_history' is not defined"
     ]
    }
   ],
   "source": [
    "training_history.history"
   ]
  },
  {
   "cell_type": "code",
   "execution_count": 30,
   "id": "39d0aedb-869c-4840-bf32-9705806ccdb2",
   "metadata": {},
   "outputs": [],
   "source": [
    "#Recording History in json\n",
    "import json\n",
    "with open(\"training_hist.json\",\"w\") as f:\n",
    "    json.dump(training_history.history,f)"
   ]
  },
  {
   "cell_type": "markdown",
   "id": "f7cb9f57-34e6-41b9-a71d-66452c9a03d4",
   "metadata": {},
   "source": [
    "## Model Evaluation"
   ]
  },
  {
   "cell_type": "markdown",
   "id": "f9d7ec6b-b079-4a08-be49-55b2e67769a0",
   "metadata": {},
   "source": [
    "### Accuracy Visualization"
   ]
  },
  {
   "cell_type": "code",
   "execution_count": 2,
   "id": "f4bcfd49-ed9f-46c5-b9f0-b00d6ed0255a",
   "metadata": {},
   "outputs": [],
   "source": [
    "import matplotlib.pyplot as plt"
   ]
  },
  {
   "cell_type": "code",
   "execution_count": 3,
   "id": "cf73d8c5-4588-4d00-9c82-db4449d5ce7b",
   "metadata": {},
   "outputs": [
    {
     "ename": "NameError",
     "evalue": "name 'training_history' is not defined",
     "output_type": "error",
     "traceback": [
      "\u001b[0;31m---------------------------------------------------------------------------\u001b[0m",
      "\u001b[0;31mNameError\u001b[0m                                 Traceback (most recent call last)",
      "Cell \u001b[0;32mIn[3], line 2\u001b[0m\n\u001b[1;32m      1\u001b[0m epochs \u001b[38;5;241m=\u001b[39m [i \u001b[38;5;28;01mfor\u001b[39;00m i \u001b[38;5;129;01min\u001b[39;00m \u001b[38;5;28mrange\u001b[39m(\u001b[38;5;241m1\u001b[39m,\u001b[38;5;241m11\u001b[39m)]\n\u001b[0;32m----> 2\u001b[0m plt\u001b[38;5;241m.\u001b[39mplot(epochs, \u001b[43mtraining_history\u001b[49m\u001b[38;5;241m.\u001b[39mhistory[\u001b[38;5;124m'\u001b[39m\u001b[38;5;124maccuracy\u001b[39m\u001b[38;5;124m'\u001b[39m], color\u001b[38;5;241m=\u001b[39m\u001b[38;5;124m'\u001b[39m\u001b[38;5;124mred\u001b[39m\u001b[38;5;124m'\u001b[39m, label\u001b[38;5;241m=\u001b[39m\u001b[38;5;124m'\u001b[39m\u001b[38;5;124mAkurasi Pelatihan\u001b[39m\u001b[38;5;124m'\u001b[39m)\n\u001b[1;32m      3\u001b[0m plt\u001b[38;5;241m.\u001b[39mplot(epochs, training_history\u001b[38;5;241m.\u001b[39mhistory[\u001b[38;5;124m'\u001b[39m\u001b[38;5;124mval_accuracy\u001b[39m\u001b[38;5;124m'\u001b[39m], color\u001b[38;5;241m=\u001b[39m\u001b[38;5;124m'\u001b[39m\u001b[38;5;124mblue\u001b[39m\u001b[38;5;124m'\u001b[39m, label\u001b[38;5;241m=\u001b[39m\u001b[38;5;124m'\u001b[39m\u001b[38;5;124mAkurasi Validasi\u001b[39m\u001b[38;5;124m'\u001b[39m)\n\u001b[1;32m      4\u001b[0m plt\u001b[38;5;241m.\u001b[39mxlabel(\u001b[38;5;124m\"\u001b[39m\u001b[38;5;124mBanyak Pengulangan\u001b[39m\u001b[38;5;124m\"\u001b[39m)\n",
      "\u001b[0;31mNameError\u001b[0m: name 'training_history' is not defined"
     ]
    }
   ],
   "source": [
    "epochs = [i for i in range(1,11)]\n",
    "plt.plot(epochs, training_history.history['accuracy'], color='red', label='Akurasi Pelatihan')\n",
    "plt.plot(epochs, training_history.history['val_accuracy'], color='blue', label='Akurasi Validasi')\n",
    "plt.xlabel(\"Banyak Pengulangan\")\n",
    "plt.ylabel(\"Hasil Akurasi\")\n",
    "plt.title(\"Visualisasi Hasil Akurasi\")\n",
    "plt.legend()\n",
    "plt.show()"
   ]
  },
  {
   "cell_type": "code",
   "execution_count": null,
   "id": "cd567aaf-30fb-496d-87b4-bed1f4cff43e",
   "metadata": {},
   "outputs": [],
   "source": []
  },
  {
   "cell_type": "code",
   "execution_count": 39,
   "id": "798fde8f-4f0a-4401-8ed6-e1d6c2d6ac8e",
   "metadata": {},
   "outputs": [
    {
     "data": {
      "image/png": "[encoded data removed]",
      "text/plain": [
       "<Figure size 640x480 with 1 Axes>"
      ]
     },
     "metadata": {},
     "output_type": "display_data"
    }
   ],
   "source": [
    "epochs = [i for i in range(1,11)]\n",
    "plt.plot(epochs, training_history.history['loss'], color='red', label='Kerugian Pelatihan')\n",
    "plt.plot(epochs, training_history.history['val_loss'], color='blue', label='Kerugian Validasi')\n",
    "plt.xlabel(\"Banyak Pengulangan\")\n",
    "plt.ylabel(\"Hasil Kerugian\")\n",
    "plt.title(\"Visualisasi hasil kerugian\")\n",
    "plt.legend()\n",
    "plt.show()"
   ]
  },
  {
   "cell_type": "markdown",
   "id": "e716d840-6be0-4879-809e-ce4d3f37a50f",
   "metadata": {},
   "source": [
    "### Other Metrics for model evaluation"
   ]
  },
  {
   "cell_type": "code",
   "execution_count": 53,
   "id": "5717c745-680d-4be6-a8f6-f19d72e1cb4e",
   "metadata": {},
   "outputs": [],
   "source": [
    "class_name = validation_set.class_names"
   ]
  },
  {
   "cell_type": "code",
   "execution_count": 42,
   "id": "c00b945c-3052-411d-add8-970dff42065b",
   "metadata": {},
   "outputs": [
    {
     "name": "stdout",
     "output_type": "stream",
     "text": [
      "Found 8850 files belonging to 4 classes.\n"
     ]
    }
   ],
   "source": [
    "test_set = tf.keras.utils.image_dataset_from_directory(\n",
    "    'Valid',\n",
    "    labels=\"inferred\",\n",
    "    label_mode=\"categorical\",\n",
    "    class_names=None,\n",
    "    color_mode=\"rgb\",\n",
    "    batch_size=32,\n",
    "    image_size=(128, 128),\n",
    "    shuffle=False,\n",
    "    seed=None,\n",
    "    validation_split=None,\n",
    "    subset=None,\n",
    "    interpolation=\"bilinear\",\n",
    "    follow_links=False,\n",
    "    crop_to_aspect_ratio=False,\n",
    "    pad_to_aspect_ratio=False,\n",
    "    verbose=True,\n",
    ")"
   ]
  },
  {
   "cell_type": "code",
   "execution_count": 43,
   "id": "2a8c5da4-e1ea-4424-92ab-366232be31aa",
   "metadata": {},
   "outputs": [
    {
     "name": "stdout",
     "output_type": "stream",
     "text": [
      "\u001b[1m277/277\u001b[0m \u001b[32m━━━━━━━━━━━━━━━━━━━━\u001b[0m\u001b[37m\u001b[0m \u001b[1m74s\u001b[0m 263ms/step\n"
     ]
    },
    {
     "data": {
      "text/plain": [
       "(array([[9.4079036e-01, 6.7085624e-05, 1.6444084e-05, 5.9126128e-02],\n",
       "        [9.6949881e-01, 1.8884855e-05, 7.2841290e-06, 3.0475037e-02],\n",
       "        [9.9964249e-01, 9.4310322e-05, 2.1887819e-04, 4.4310575e-05],\n",
       "        ...,\n",
       "        [1.9571219e-29, 8.9513372e-30, 1.0083210e-28, 1.0000000e+00],\n",
       "        [3.3113237e-18, 3.4595021e-27, 2.8623380e-24, 1.0000000e+00],\n",
       "        [1.5861180e-01, 6.5921357e-09, 1.5023852e-18, 8.4138817e-01]],\n",
       "       dtype=float32),\n",
       " (8850, 4))"
      ]
     },
     "execution_count": 43,
     "metadata": {},
     "output_type": "execute_result"
    }
   ],
   "source": [
    "y_pred = model.predict(test_set)\n",
    "y_pred,y_pred.shape"
   ]
  },
  {
   "cell_type": "code",
   "execution_count": 44,
   "id": "8c1c7e96-fde5-453b-9c54-e43eb8e15b5e",
   "metadata": {},
   "outputs": [],
   "source": [
    "predicted_categories = tf.argmax(y_pred,axis=1)"
   ]
  },
  {
   "cell_type": "code",
   "execution_count": 45,
   "id": "0ba0dbe1-8f1d-4ad6-8330-c5c929085c54",
   "metadata": {},
   "outputs": [
    {
     "data": {
      "text/plain": [
       "<tf.Tensor: shape=(8850,), dtype=int64, numpy=array([0, 0, 0, ..., 3, 3, 3])>"
      ]
     },
     "execution_count": 45,
     "metadata": {},
     "output_type": "execute_result"
    }
   ],
   "source": [
    "predicted_categories"
   ]
  },
  {
   "cell_type": "code",
   "execution_count": 47,
   "id": "5a3d88cd-2daa-4076-b0d7-74eade9c562b",
   "metadata": {},
   "outputs": [
    {
     "name": "stderr",
     "output_type": "stream",
     "text": [
      "2025-09-24 07:35:31.174661: W tensorflow/core/framework/local_rendezvous.cc:404] Local rendezvous is aborting with status: OUT_OF_RANGE: End of sequence\n"
     ]
    },
    {
     "data": {
      "text/plain": [
       "<tf.Tensor: shape=(8850, 4), dtype=float32, numpy=\n",
       "array([[1., 0., 0., 0.],\n",
       "       [1., 0., 0., 0.],\n",
       "       [1., 0., 0., 0.],\n",
       "       ...,\n",
       "       [0., 0., 0., 1.],\n",
       "       [0., 0., 0., 1.],\n",
       "       [0., 0., 0., 1.]], dtype=float32)>"
      ]
     },
     "execution_count": 47,
     "metadata": {},
     "output_type": "execute_result"
    }
   ],
   "source": [
    "true_categories = tf.concat([y for x,y in test_set],axis = 0)\n",
    "true_categories"
   ]
  },
  {
   "cell_type": "code",
   "execution_count": 48,
   "id": "e8b7796f-db5c-403b-8a9c-ce0233c8fa68",
   "metadata": {},
   "outputs": [],
   "source": [
    "Y_true = tf.argmax(true_categories, axis=1)"
   ]
  },
  {
   "cell_type": "code",
   "execution_count": 49,
   "id": "23a1b7b6-cfb3-4939-85c6-2ba369e4a249",
   "metadata": {},
   "outputs": [
    {
     "data": {
      "text/plain": [
       "<tf.Tensor: shape=(8850,), dtype=int64, numpy=array([0, 0, 0, ..., 3, 3, 3])>"
      ]
     },
     "execution_count": 49,
     "metadata": {},
     "output_type": "execute_result"
    }
   ],
   "source": [
    "Y_true"
   ]
  },
  {
   "cell_type": "code",
   "execution_count": 50,
   "id": "840ab2f0-17d0-4b9b-ba2a-2a90f477e76d",
   "metadata": {},
   "outputs": [],
   "source": [
    "# Precision Recall Fscore"
   ]
  },
  {
   "cell_type": "code",
   "execution_count": 55,
   "id": "785f107e-c441-4826-bd57-0ac569349e68",
   "metadata": {},
   "outputs": [],
   "source": [
    "from sklearn.metrics import classification_report, confusion_matrix"
   ]
  },
  {
   "cell_type": "code",
   "execution_count": 54,
   "id": "0cb9342c-36f0-49d9-aa49-b7fb122e22ed",
   "metadata": {},
   "outputs": [
    {
     "name": "stdout",
     "output_type": "stream",
     "text": [
      "                precision    recall  f1-score   support\n",
      "\n",
      "   Corynespora       0.92      0.99      0.95      2206\n",
      "       Healthy       0.90      0.95      0.92      2289\n",
      "        Oidium       0.96      0.88      0.92      2192\n",
      "Pestalotiopsis       0.94      0.90      0.92      2163\n",
      "\n",
      "      accuracy                           0.93      8850\n",
      "     macro avg       0.93      0.93      0.93      8850\n",
      "  weighted avg       0.93      0.93      0.93      8850\n",
      "\n"
     ]
    }
   ],
   "source": [
    "print(classification_report(Y_true,predicted_categories,target_names=class_name))"
   ]
  },
  {
   "cell_type": "markdown",
   "id": "c10ca344-7860-4402-9af8-bab97831ff3d",
   "metadata": {},
   "source": [
    "### Confusion Matrix Visualization"
   ]
  },
  {
   "cell_type": "code",
   "execution_count": 56,
   "id": "22668878-ec86-4955-81a2-4916a3425846",
   "metadata": {},
   "outputs": [
    {
     "data": {
      "text/plain": [
       "array([[2175,   10,    0,   21],\n",
       "       [  53, 2165,   54,   17],\n",
       "       [  29,  149, 1934,   80],\n",
       "       [ 113,   75,   27, 1948]])"
      ]
     },
     "execution_count": 56,
     "metadata": {},
     "output_type": "execute_result"
    }
   ],
   "source": [
    "cm = confusion_matrix(Y_true, predicted_categories)\n",
    "cm"
   ]
  },
  {
   "cell_type": "code",
   "execution_count": 64,
   "id": "9ce44a4f-0da0-4d2b-be74-d2af4593d292",
   "metadata": {},
   "outputs": [
    {
     "data": {
      "image/png": "[encoded data removed]",
      "text/plain": [
       "<Figure size 800x800 with 2 Axes>"
      ]
     },
     "metadata": {},
     "output_type": "display_data"
    }
   ],
   "source": [
    "plt.figure(figsize=(8,8))\n",
    "sns.heatmap(cm, annot=True)\n",
    "plt.xlabel(\"Predicted Class\", fontsize = 18)\n",
    "plt.ylabel(\"Actual Class\", fontsize = 18)\n",
    "plt.title(\"Prediksi Penyakit Karet Confusion Matrix\", fontsize = 23)\n",
    "plt.show()"
   ]
  },
  {
   "cell_type": "code",
   "execution_count": null,
   "id": "d23f189f-eb02-499e-ba8d-727a318c92d4",
   "metadata": {},
   "outputs": [],
   "source": []
  }
 ],
 "metadata": {
  "kernelspec": {
   "display_name": "Python (tf-macos)",
   "language": "python",
   "name": "tf-macos"
  },
  "language_info": {
   "codemirror_mode": {
    "name": "ipython",
    "version": 3
   },
   "file_extension": ".py",
   "mimetype": "text/x-python",
   "name": "python",
   "nbconvert_exporter": "python",
   "pygments_lexer": "ipython3",
   "version": "3.9.23"
  }
 },
 "nbformat": 4,
 "nbformat_minor": 5
}
